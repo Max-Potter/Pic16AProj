{
  "nbformat": 4,
  "nbformat_minor": 0,
  "metadata": {
    "kernelspec": {
      "display_name": "Python 3",
      "language": "python",
      "name": "python3"
    },
    "language_info": {
      "codemirror_mode": {
        "name": "ipython",
        "version": 3
      },
      "file_extension": ".py",
      "mimetype": "text/x-python",
      "name": "python",
      "nbconvert_exporter": "python",
      "pygments_lexer": "ipython3",
      "version": "3.7.1"
    },
    "colab": {
      "name": "Copy of COMM155 - W22 - Week 5 - CSV format and NLTK.ipynb",
      "provenance": [],
      "collapsed_sections": []
    }
  },
  "cells": [
    {
      "cell_type": "markdown",
      "metadata": {
        "id": "53qVMEiM3e1G"
      },
      "source": [
        "#### This workbook will teach you how to read/write to CSV files and us the NLTK Sentiment Analyzer\n",
        "\n",
        "COMM 155 - Artificial Intelligence and New Media, Winter Quarter 2022, Prof. J. Joo, TA. Jacqueline Lam"
      ]
    },
    {
      "cell_type": "markdown",
      "source": [
        "# **Exercise 1: CSV Files**\n",
        "\n",
        "1. Download “**[addresses.csv](https://drive.google.com/file/d/1rZtxuN6Mevxa_vzQcgedXqKwQDqIqsEl/view?usp=sharing)**” and place in your **“Data”** folder\n",
        "2. Create 2 empty lists called **“first_name”** and **“zip_code”**\n",
        "3. Open **“addresses**.csv” using **‘r’** access mode and saving variable as **“csv_file”**\n",
        "4. Read from **“addresses**.csv” using **csv.reader(csv_file**) function and storing into variable called **“csv_obj”**\n",
        "5. Convert **“csv_obj”** to a list and store into a variable called **“addresses”**\n",
        "6. Iterate through **“addresses”** list and append the first name values to the **“first_name”** list and the zip code values to the **“zip_code”** list\n",
        "7. Print out **“first_name”** and **“zip_code”**\n",
        "8. Close **“csv_file”**\n"
      ],
      "metadata": {
        "id": "uD66zyrIw5cj"
      }
    },
    {
      "cell_type": "code",
      "source": [
        "# How to make the drive files accessible on colab?\n",
        "\n",
        "# To add your own Drive Run this cell.\n",
        "from google.colab import drive\n",
        "drive.mount('/content/drive')\n",
        "\n",
        "data_directory = \"/content/drive/My Drive/Data/\"\n"
      ],
      "metadata": {
        "colab": {
          "base_uri": "https://localhost:8080/"
        },
        "id": "_ZtQJjgXZsYR",
        "outputId": "2c103135-833e-4ee2-a897-85492535b698"
      },
      "execution_count": null,
      "outputs": [
        {
          "output_type": "stream",
          "name": "stdout",
          "text": [
            "Mounted at /content/drive\n"
          ]
        }
      ]
    },
    {
      "cell_type": "code",
      "source": [
        "#After giving Colab access to files\n",
        "import csv\n",
        "\n",
        "first_name = []\n",
        "zip_code = []\n",
        "\n",
        "csv_file = open(data_directory+\"addresses.csv\", 'r') #use open() function as ‘r’\n",
        "csv_obj = csv.reader(csv_file)\n",
        "addresses = list(csv_obj)\n",
        "\n",
        "#Use for loop to iterate through addresses\n",
        "for row in addresses[1:]:\n",
        "    first_name.append(row[0])\n",
        "    zip_code.append(row[5])\n",
        "\n",
        "#print first_name and zip_code\n",
        "print(first_name)\n",
        "print(zip_code)\n",
        "\n",
        "#close file\n",
        "csv_file.close()"
      ],
      "metadata": {
        "colab": {
          "base_uri": "https://localhost:8080/"
        },
        "id": "N7EQg7w4xOpm",
        "outputId": "5ed5d54e-49c3-4307-a8c1-b27e7cedec93"
      },
      "execution_count": null,
      "outputs": [
        {
          "output_type": "stream",
          "name": "stdout",
          "text": [
            "['John', 'Jack', 'John \"Da Man\"', 'Stephen', 'Joseph', 'Joan \"the bone\", Anne']\n",
            "[' 08075', '09119', '08075', ' 91234', ' 00298', '00123']\n"
          ]
        }
      ]
    },
    {
      "cell_type": "markdown",
      "source": [
        "# **Exercise 2: NLTK Sentiment Analyzer**\n",
        "\n",
        "---\n",
        "\n",
        ":\n",
        "\n",
        "1.Create a list called **“sentences”**. It should contain the following\n",
        "\n",
        "```\n",
        "  \"This is the worst class ever!!\", \n",
        "  \"Wow, this tastes absolutely disgusting\",\n",
        "  \"This tastes absolutely disgusting\",\n",
        "  \"This tastes absolutely DISGUSTING\",\n",
        "  \"This tastes absolutely disgusting!!!\",\n",
        "  \"My dog is such a good boy\",\n",
        "  \"I love seeing my enemies get destroyed\",\n",
        "  \"I have 2 sisters\"\n",
        "```\n",
        "\n",
        "2. Initialize the classifier called **“sid”** by calling **SentimentIntensityAnalyzer()**\n",
        "3. Print out the sentence and polarity scores of each sentence using a for loop and the function **sid.polarity(sentence)**"
      ],
      "metadata": {
        "id": "2ei1uxwDxU96"
      }
    },
    {
      "cell_type": "code",
      "source": [
        "import nltk\n",
        "from nltk.sentiment.vader import SentimentIntensityAnalyzer\n",
        "nltk.download('punkt')\n",
        "nltk.download('vader_lexicon')\n",
        "\n",
        "\n",
        "# Fill in code here\n",
        "sentences = [\"This is the worst class ever!!\", \n",
        "  \"Wow, this tastes absolutely disgusting\",\n",
        "  \"This tastes absolutely disgusting\",\n",
        "  \"This tastes absolutely DISGUSTING\",\n",
        "  \"This tastes absolutely disgusting!!!\",\n",
        "  \"My dog is such a good boy\",\n",
        "  \"I love seeing my enemies get destroyed\",\n",
        "  \"I have 2 sisters\"]\n",
        "\n",
        "sid = SentimentIntensityAnalyzer()\n",
        "\n",
        "for sentence in sentences:\n",
        "  score=sid.polarity_scores(sentence)\n",
        "  print(sentence, score)\n",
        "\n"
      ],
      "metadata": {
        "colab": {
          "base_uri": "https://localhost:8080/"
        },
        "id": "jqr1hYpMx4hX",
        "outputId": "31727a61-468f-4a3c-ba32-80d6eccfad09"
      },
      "execution_count": null,
      "outputs": [
        {
          "output_type": "stream",
          "name": "stdout",
          "text": [
            "[nltk_data] Downloading package punkt to /root/nltk_data...\n",
            "[nltk_data]   Package punkt is already up-to-date!\n",
            "[nltk_data] Downloading package vader_lexicon to /root/nltk_data...\n",
            "[nltk_data]   Package vader_lexicon is already up-to-date!\n",
            "This is the worst class ever!! {'neg': 0.484, 'neu': 0.516, 'pos': 0.0, 'compound': -0.6892}\n",
            "Wow, this tastes absolutely disgusting {'neg': 0.352, 'neu': 0.286, 'pos': 0.362, 'compound': 0.0276}\n",
            "This tastes absolutely disgusting {'neg': 0.552, 'neu': 0.448, 'pos': 0.0, 'compound': -0.5709}\n",
            "This tastes absolutely DISGUSTING {'neg': 0.596, 'neu': 0.404, 'pos': 0.0, 'compound': -0.6626}\n",
            "This tastes absolutely disgusting!!! {'neg': 0.604, 'neu': 0.396, 'pos': 0.0, 'compound': -0.6777}\n",
            "My dog is such a good boy {'neg': 0.0, 'neu': 0.633, 'pos': 0.367, 'compound': 0.4404}\n",
            "I love seeing my enemies get destroyed {'neg': 0.471, 'neu': 0.221, 'pos': 0.309, 'compound': -0.296}\n",
            "I have 2 sisters {'neg': 0.0, 'neu': 1.0, 'pos': 0.0, 'compound': 0.0}\n"
          ]
        }
      ]
    },
    {
      "cell_type": "markdown",
      "source": [
        "# **Example: Correlation Matrix**"
      ],
      "metadata": {
        "id": "gvg_mDkDOhZg"
      }
    },
    {
      "cell_type": "code",
      "source": [
        "import numpy as np\n",
        "import matplotlib.pyplot as plt\n",
        "\n",
        "x = np.linspace(-5,5,11) #11 points between -5 to 5\n",
        "y = np.linspace(1,-10,11) #11 points between 1 and -10\n",
        "plt.plot(x,y)\n",
        "plt.scatter(x,y)\n",
        "print(\"Corrrelation Matrix\") \n",
        "print(np.corrcoef(x,y)) #print out correlation matrix\n",
        "print(\"Correlation Coefficient between x and y\") \n",
        "print(np.corrcoef(x,y)[1][0]) #second row, first column is correlation coeff between x and y\n"
      ],
      "metadata": {
        "id": "JzpCxVQEFXH4",
        "colab": {
          "base_uri": "https://localhost:8080/",
          "height": 352
        },
        "outputId": "4a8843e9-e52a-489c-abe5-c827aae2c14f"
      },
      "execution_count": null,
      "outputs": [
        {
          "output_type": "stream",
          "name": "stdout",
          "text": [
            "Corrrelation Matrix\n",
            "[[ 1. -1.]\n",
            " [-1.  1.]]\n",
            "Correlation Coefficient between x and y\n",
            "-1.0\n"
          ]
        },
        {
          "output_type": "display_data",
          "data": {
            "image/png": "[encoded data removed]",
            "text/plain": [
              "<Figure size 432x288 with 1 Axes>"
            ]
          },
          "metadata": {
            "needs_background": "light"
          }
        }
      ]
    }
  ]
}